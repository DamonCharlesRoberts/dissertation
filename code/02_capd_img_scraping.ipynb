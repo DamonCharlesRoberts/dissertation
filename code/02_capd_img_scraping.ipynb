{
 "cells": [
  {
   "cell_type": "markdown",
   "metadata": {},
   "source": [
    "# Title: CAPD Image Scraping\n",
    "\n",
    "# Notes:\n",
    "    #* Description: Jupyter Notebook to scrape CAPD site for yard signs in 2018-2022 national elections\n",
    "    #* Updated: 2022-11-04\n",
    "    #* Updated by: dcr "
   ]
  },
  {
   "cell_type": "markdown",
   "metadata": {},
   "source": [
    "# Load Modules"
   ]
  },
  {
   "cell_type": "code",
   "execution_count": null,
   "metadata": {},
   "outputs": [],
   "source": [
    "import time # library to help with sleep and wait times\n",
    "from selenium import webdriver # to setup the driver\n",
    "from selenium.webdriver.chrome.options import Options # to specify options for my chrome webdriver\n",
    "from webdriver_manager.chrome import ChromeDriverManager # use the driver manager so that I don't have to download it and keep track of versions myself\n",
    "from selenium.webdriver.support.ui import WebDriverWait # use this so that I can wait on my driver to load the page completely before searching\n",
    "from selenium.webdriver.common.by import By # using the By function to help with the xpath searching\n",
    "from selenium.webdriver.support import expected_conditions as EC # load the expected_conditions function to make sure all elements matching the xpath happen before the driver stops waiting on the loading\n",
    "import pandas as pd # need the pandas package for dataFrames\n",
    "import duckdb # need to store data into database"
   ]
  },
  {
   "cell_type": "markdown",
   "metadata": {},
   "source": [
    "# Scraping of CAPD Site"
   ]
  },
  {
   "cell_type": "markdown",
   "metadata": {},
   "source": [
    "## Driver and Scraping\n"
   ]
  },
  {
   "cell_type": "code",
   "execution_count": null,
   "metadata": {},
   "outputs": [],
   "source": [
    "options = Options() # set options for driver\n",
    "options.add_argument(\"start-maximized\") # specify the option to open chrome browser when sent to driver\n",
    "\n",
    "driver = webdriver.Chrome(ChromeDriverManager().install(), options=options) # create ChromeDriver\n",
    "wait = WebDriverWait(driver, 1000) # set wait time for driver when searching XPATH\n",
    "\n",
    "url = \"https://www.politicsanddesign.com/\" # site of url to go to\n",
    "\n",
    "driver.get(url) # go to url\n",
    "wait.until(EC.presence_of_all_elements_located((By.XPATH, \"//div[@class='responsive-image-wrapper']/img\"))) # search xpath on url. Need to first remove 2020 filter and scroll all the way to the bottom\n",
    "time.sleep(10) # set sleep timer just in case driver needs more time\n",
    "img_url = driver.find_elements(By.XPATH, \"//div[@class='responsive-image-wrapper']/img\") # search xpath on url\n",
    "\n",
    "img_url2 = [] # create empty list\n",
    "for element in img_url:\n",
    "    new_srcset = 'https:' + element.get_attribute(\"srcset\").split(' 400w', 1)[0] # for elements in the img_url drivers, take the srcset img attribute and paste it into a full link. Also remove everything after the 400w caracter and retain the first part of that split\n",
    "    img_url2.append(new_srcset) #append the links to the img_url2 list object"
   ]
  },
  {
   "cell_type": "markdown",
   "metadata": {},
   "source": [
    "## Data Wrangling"
   ]
  },
  {
   "cell_type": "code",
   "execution_count": null,
   "metadata": {},
   "outputs": [],
   "source": [
    "yard_signs['Img_URL'] = img_url2 # add img_url2 list object and add it to the yard_signs dataFrame"
   ]
  },
  {
   "cell_type": "markdown",
   "metadata": {},
   "source": [
    "## Store Data"
   ]
  },
  {
   "cell_type": "code",
   "execution_count": null,
   "metadata": {},
   "outputs": [],
   "source": [
    "\n",
    "database.execute(\"CREATE OR REPLACE TABLE ch_1_capd_yard_signs AS SELECT * FROM yard_signs\") # add the new version of the table to the database"
   ]
  }
 ],
 "metadata": {
  "kernelspec": {
   "display_name": "Python 3.10.6 (conda)",
   "language": "python",
   "name": "python3"
  },
  "language_info": {
   "name": "python",
   "version": "3.10.6"
  },
  "orig_nbformat": 4,
  "vscode": {
   "interpreter": {
    "hash": "afa691b0bad08ea1edfc387adda4ed8d77b19980e4c9407f627234486b5624ad"
   }
  }
 },
 "nbformat": 4,
 "nbformat_minor": 2
}
